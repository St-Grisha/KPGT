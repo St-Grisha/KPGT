{
 "cells": [
  {
   "cell_type": "code",
   "execution_count": 2,
   "id": "a41cbe05-6b6e-4c14-99e0-2e7cbb3f054a",
   "metadata": {},
   "outputs": [],
   "source": [
    "import rdkit.Chem as chem\n",
    "\n"
   ]
  },
  {
   "cell_type": "code",
   "execution_count": 4,
   "id": "c10f9b68-0fe2-41c6-97bf-2553562b24b6",
   "metadata": {},
   "outputs": [],
   "source": [
    "a = chem.GetPeriodicTable()"
   ]
  },
  {
   "cell_type": "code",
   "execution_count": 9,
   "id": "6062fc4a-6d39-4d8c-9ea7-183b5a5cc740",
   "metadata": {},
   "outputs": [
    {
     "data": {
      "text/plain": [
       "13"
      ]
     },
     "execution_count": 9,
     "metadata": {},
     "output_type": "execute_result"
    }
   ],
   "source": [
    "a.GetNOuterElecs('Yb') - 1"
   ]
  },
  {
   "cell_type": "raw",
   "id": "3cc3c98f-b43a-4b95-abc4-bcab2378b90f",
   "metadata": {},
   "source": [
    "a.GetNOuterElecs('As')"
   ]
  },
  {
   "cell_type": "code",
   "execution_count": 11,
   "id": "f98522cb-b8a6-4375-b6fa-ed8e05b17f02",
   "metadata": {},
   "outputs": [
    {
     "ename": "AttributeError",
     "evalue": "'PeriodicTable' object has no attribute 'GetExplicitValence'",
     "output_type": "error",
     "traceback": [
      "\u001b[0;31m---------------------------------------------------------------------------\u001b[0m",
      "\u001b[0;31mAttributeError\u001b[0m                            Traceback (most recent call last)",
      "\u001b[0;32m/tmp/ipykernel_14910/245586266.py\u001b[0m in \u001b[0;36m<module>\u001b[0;34m\u001b[0m\n\u001b[0;32m----> 1\u001b[0;31m \u001b[0ma\u001b[0m\u001b[0;34m.\u001b[0m\u001b[0mGetExplicitValence\u001b[0m\u001b[0;34m(\u001b[0m\u001b[0;34m'As'\u001b[0m\u001b[0;34m)\u001b[0m\u001b[0;34m\u001b[0m\u001b[0;34m\u001b[0m\u001b[0m\n\u001b[0m",
      "\u001b[0;31mAttributeError\u001b[0m: 'PeriodicTable' object has no attribute 'GetExplicitValence'"
     ]
    }
   ],
   "source": [
    "a.GetRcovalent('As')"
   ]
  },
  {
   "cell_type": "code",
   "execution_count": 17,
   "id": "ff5d727a-79b0-4ce0-b4a0-1d940bb9464e",
   "metadata": {},
   "outputs": [],
   "source": [
    "s = chem.rdchem.Atom('S')"
   ]
  },
  {
   "cell_type": "code",
   "execution_count": 29,
   "id": "65c0e29b-5a31-4f49-987e-734fef89538d",
   "metadata": {},
   "outputs": [
    {
     "data": {
      "text/plain": [
       "16"
      ]
     },
     "execution_count": 29,
     "metadata": {},
     "output_type": "execute_result"
    }
   ],
   "source": [
    "s.GetAtomicNum()"
   ]
  },
  {
   "cell_type": "code",
   "execution_count": 1,
   "id": "8b15612c-eec1-476f-94e7-b8b25248d51c",
   "metadata": {},
   "outputs": [
    {
     "ename": "ModuleNotFoundError",
     "evalue": "No module named 'dgllife'",
     "output_type": "error",
     "traceback": [
      "\u001b[0;31m---------------------------------------------------------------------------\u001b[0m",
      "\u001b[0;31mModuleNotFoundError\u001b[0m                       Traceback (most recent call last)",
      "\u001b[0;32m/tmp/ipykernel_14910/3703624841.py\u001b[0m in \u001b[0;36m<module>\u001b[0;34m\u001b[0m\n\u001b[0;32m----> 1\u001b[0;31m \u001b[0;32mfrom\u001b[0m \u001b[0mdgllife\u001b[0m\u001b[0;34m.\u001b[0m\u001b[0mutils\u001b[0m\u001b[0;34m.\u001b[0m\u001b[0mfeaturizers\u001b[0m \u001b[0;32mimport\u001b[0m \u001b[0mConcatFeaturizer\u001b[0m\u001b[0;34m,\u001b[0m \u001b[0mbond_type_one_hot\u001b[0m\u001b[0;34m,\u001b[0m \u001b[0mbond_is_conjugated\u001b[0m\u001b[0;34m,\u001b[0m\u001b[0;31m\\\u001b[0m\u001b[0;34m\u001b[0m\u001b[0;34m\u001b[0m\u001b[0m\n\u001b[0m\u001b[1;32m      2\u001b[0m     \u001b[0mbond_is_in_ring\u001b[0m\u001b[0;34m,\u001b[0m \u001b[0mbond_stereo_one_hot\u001b[0m\u001b[0;34m,\u001b[0m \u001b[0matomic_number_one_hot\u001b[0m\u001b[0;34m,\u001b[0m\u001b[0;31m\\\u001b[0m\u001b[0;34m\u001b[0m\u001b[0;34m\u001b[0m\u001b[0m\n\u001b[1;32m      3\u001b[0m     \u001b[0matom_degree_one_hot\u001b[0m\u001b[0;34m,\u001b[0m \u001b[0matom_formal_charge\u001b[0m\u001b[0;34m,\u001b[0m \u001b[0matom_num_radical_electrons_one_hot\u001b[0m\u001b[0;34m,\u001b[0m\u001b[0;31m\\\u001b[0m\u001b[0;34m\u001b[0m\u001b[0;34m\u001b[0m\u001b[0m\n\u001b[1;32m      4\u001b[0m     \u001b[0matom_hybridization_one_hot\u001b[0m\u001b[0;34m,\u001b[0m \u001b[0matom_is_aromatic\u001b[0m\u001b[0;34m,\u001b[0m \u001b[0matom_total_num_H_one_hot\u001b[0m\u001b[0;34m,\u001b[0m\u001b[0;31m\\\u001b[0m\u001b[0;34m\u001b[0m\u001b[0;34m\u001b[0m\u001b[0m\n\u001b[1;32m      5\u001b[0m     \u001b[0matom_is_chiral_center\u001b[0m\u001b[0;34m,\u001b[0m \u001b[0matom_chirality_type_one_hot\u001b[0m\u001b[0;34m,\u001b[0m \u001b[0matom_mass\u001b[0m\u001b[0;34m\u001b[0m\u001b[0;34m\u001b[0m\u001b[0m\n",
      "\u001b[0;31mModuleNotFoundError\u001b[0m: No module named 'dgllife'"
     ]
    }
   ],
   "source": [
    "from dgllife.utils.featurizers import ConcatFeaturizer, bond_type_one_hot, bond_is_conjugated,\\\n",
    "    bond_is_in_ring, bond_stereo_one_hot, atomic_number_one_hot,\\\n",
    "    atom_degree_one_hot, atom_formal_charge, atom_num_radical_electrons_one_hot,\\\n",
    "    atom_hybridization_one_hot, atom_is_aromatic, atom_total_num_H_one_hot,\\\n",
    "    atom_is_chiral_center, atom_chirality_type_one_hot, atom_mass"
   ]
  },
  {
   "cell_type": "code",
   "execution_count": 20,
   "id": "c41ac708-205b-482c-82c9-c5d40f77c167",
   "metadata": {},
   "outputs": [
    {
     "name": "stdout",
     "output_type": "stream",
     "text": [
      "Requirement already satisfied: dgllife in /home/grigoriy/anaconda3/envs/KPGT/lib/python3.7/site-packages (0.2.9)\n",
      "Requirement already satisfied: scipy>=1.1.0 in /home/grigoriy/anaconda3/envs/KPGT/lib/python3.7/site-packages (from dgllife) (1.7.3)\n",
      "Requirement already satisfied: hyperopt in /home/grigoriy/anaconda3/envs/KPGT/lib/python3.7/site-packages (from dgllife) (0.2.7)\n",
      "Requirement already satisfied: joblib in /home/grigoriy/anaconda3/envs/KPGT/lib/python3.7/site-packages (from dgllife) (1.1.0)\n",
      "Requirement already satisfied: requests>=2.22.0 in /home/grigoriy/anaconda3/envs/KPGT/lib/python3.7/site-packages (from dgllife) (2.27.1)\n",
      "Requirement already satisfied: tqdm in /home/grigoriy/anaconda3/envs/KPGT/lib/python3.7/site-packages (from dgllife) (4.64.0)\n",
      "Requirement already satisfied: pandas in /home/grigoriy/anaconda3/envs/KPGT/lib/python3.7/site-packages (from dgllife) (1.3.5)\n",
      "Requirement already satisfied: numpy>=1.14.0 in /home/grigoriy/anaconda3/envs/KPGT/lib/python3.7/site-packages (from dgllife) (1.21.5)\n",
      "Requirement already satisfied: networkx>=2.1 in /home/grigoriy/anaconda3/envs/KPGT/lib/python3.7/site-packages (from dgllife) (2.2)\n",
      "Requirement already satisfied: scikit-learn>=0.22.2 in /home/grigoriy/anaconda3/envs/KPGT/lib/python3.7/site-packages (from dgllife) (1.0.2)\n",
      "Requirement already satisfied: decorator>=4.3.0 in /home/grigoriy/anaconda3/envs/KPGT/lib/python3.7/site-packages (from networkx>=2.1->dgllife) (5.1.1)\n",
      "Requirement already satisfied: certifi>=2017.4.17 in /home/grigoriy/anaconda3/envs/KPGT/lib/python3.7/site-packages (from requests>=2.22.0->dgllife) (2022.5.18.1)\n",
      "Requirement already satisfied: charset-normalizer~=2.0.0 in /home/grigoriy/anaconda3/envs/KPGT/lib/python3.7/site-packages (from requests>=2.22.0->dgllife) (2.0.4)\n",
      "Requirement already satisfied: urllib3<1.27,>=1.21.1 in /home/grigoriy/anaconda3/envs/KPGT/lib/python3.7/site-packages (from requests>=2.22.0->dgllife) (1.26.9)\n",
      "Requirement already satisfied: idna<4,>=2.5 in /home/grigoriy/anaconda3/envs/KPGT/lib/python3.7/site-packages (from requests>=2.22.0->dgllife) (3.3)\n",
      "Requirement already satisfied: threadpoolctl>=2.0.0 in /home/grigoriy/anaconda3/envs/KPGT/lib/python3.7/site-packages (from scikit-learn>=0.22.2->dgllife) (3.1.0)\n",
      "Requirement already satisfied: six in /home/grigoriy/anaconda3/envs/KPGT/lib/python3.7/site-packages (from hyperopt->dgllife) (1.16.0)\n",
      "Requirement already satisfied: future in /home/grigoriy/anaconda3/envs/KPGT/lib/python3.7/site-packages (from hyperopt->dgllife) (0.18.2)\n",
      "Requirement already satisfied: cloudpickle in /home/grigoriy/anaconda3/envs/KPGT/lib/python3.7/site-packages (from hyperopt->dgllife) (2.1.0)\n",
      "Requirement already satisfied: py4j in /home/grigoriy/anaconda3/envs/KPGT/lib/python3.7/site-packages (from hyperopt->dgllife) (0.10.9.5)\n",
      "Requirement already satisfied: python-dateutil>=2.7.3 in /home/grigoriy/anaconda3/envs/KPGT/lib/python3.7/site-packages (from pandas->dgllife) (2.8.2)\n",
      "Requirement already satisfied: pytz>=2017.3 in /home/grigoriy/anaconda3/envs/KPGT/lib/python3.7/site-packages (from pandas->dgllife) (2021.3)\n"
     ]
    }
   ],
   "source": [
    "!pip install dgllife"
   ]
  },
  {
   "cell_type": "code",
   "execution_count": null,
   "id": "8eee99f6-865a-45e3-8c30-f8c00227a0e8",
   "metadata": {},
   "outputs": [],
   "source": []
  }
 ],
 "metadata": {
  "kernelspec": {
   "display_name": "rdkit",
   "language": "python",
   "name": "rdkit"
  },
  "language_info": {
   "codemirror_mode": {
    "name": "ipython",
    "version": 3
   },
   "file_extension": ".py",
   "mimetype": "text/x-python",
   "name": "python",
   "nbconvert_exporter": "python",
   "pygments_lexer": "ipython3",
   "version": "3.9.9"
  }
 },
 "nbformat": 4,
 "nbformat_minor": 5
}
